{
 "cells": [
  {
   "cell_type": "markdown",
   "metadata": {},
   "source": [
    "# Problema 0\n",
    "\n",
    "Enunciado:\n",
    "\n",
    "> Tenemos dos cuerpos, A y B. Ambos se mueven en movimiento rectilíneo uniforme bidimensional. Ambos cuerpos tienen velocidades vA y vB respectivamente, comenzando desde las posiciones A y rB respectivamente. Estos cuatro valores de $R^{2}$ son conocidos, y se pide encontrar el tiempo en que ambos cuerpos colisionarán (si es que colisionan). De otro modo, se debe indicar que no colisionarán.\n",
    "\n",
    "Implementación:\n",
    "\n",
    "``` python\n",
    "def collision(\n",
    "    rA: tuple[float, float],\n",
    "    vA: tuple[float, float],\n",
    "    rB: tuple[float, float],\n",
    "    vB: tuple[float, float]\n",
    ") -> Union[float, None]:\n",
    "    \"\"\"Obtiene el tiempo en que dos cuerpos\n",
    "colisionarán, si es que colisionan.\n",
    "Si no colisionan, retorna None.\"\"\"\n",
    "\n",
    "```"
   ]
  },
  {
   "cell_type": "markdown",
   "metadata": {},
   "source": [
    "## Modelo\n",
    "\n",
    "Primero, se tienen dos datos sobre cada cuerpo\n",
    "- La velocidad _v_ como un vector (representado con tuple[modulo, direccion])\n",
    "- La posición inicial _r_ como un par ordenado (representado con tuple[coorX, coorY])\n",
    "\n",
    "De esta forma, tomando como ejemplo un objeto cualquiera A, se puede definir el vector de su velocidad, teniendo un punto de aplicación con coordenadas r(x, y), un módulo v[0] y una dirección v[1]. De esta manera, una forma de resolver el problema planteado incluye la separación de los componentes de cada vector:\n",
    "\n",
    "### Método de descomposición:\n",
    "Dado que el movimiento del cuerpo se desarrolla dentro de un plano bidimensional, se puede descomponer el movimiento de cada cuerpo en dos ejes: abscisas y ordenadas. De esta forma, se pueden determinar los casos en los que dos objetos colisionarán dependiendo de la coordenada en cada eje del cuerpo:\n",
    "- Si ambas coordenadas _x_ y _y_ son iguales, entonces ambos objetos han colisionado.\n",
    "\n",
    "De esta forma, si las coordenadas iniciales son distintas, se puede determinar si colisionarán siguiendo el aumento en la posición conocido del resultado de la descomposición del vector del movimiento.\n",
    "- El aumento en el eje de las _abscisas_ estaría dado por $\\cos{\\theta}$, siendo $\\theta$ la dirección del vector.\n",
    "- El aumento en el eje de las _ordenadas_ estaría dado por $\\sin{\\theta}$.\n",
    "\n",
    "Si el cambio en ambas coordenadas tiende a _encontrarse_, entonces será seguro que los objetos colisionarán. Si la tendencia es a alejarse de ambas o de alguna de las coordenadas, entonces los objetos no colisionarán.\n",
    "\n",
    "**Tendencia a encontrarse**:\n",
    "\n",
    "Este concepto es importante para el funcionamiento del algoritmo. ¿Qué significa una tendencia a encontrarse? A que **la distancia entre ambas magnitudes tienda a cerrarse**. Es decir, que $\\Delta x$ o $\\Delta y$ tienda a 0.\n",
    "\n",
    "#### Algoritmo:\n",
    "\n",
    "El algoritmo tendría que seguir el siguiente pseudocódigo:\n",
    "1. Validar los datos proporcionados\n",
    "2. Descomponer ambos vectores de velocidad\n",
    "3. Determinar las coordenadas (x, y) de forma independiente de cada cuerpo\n",
    "4. Determinar si los cuerpos colisionarán ($\\Delta x -> 0$ && $\\Delta y -> 0$)\n",
    "5. Si si, determinar en cuanto tiempo ($\\text{tiempo} \\cdot \\sin{\\theta}$) colisionarán.\n",
    "6. Retornar dicho tiempo"
   ]
  },
  {
   "cell_type": "markdown",
   "metadata": {},
   "source": [
    "Una implementación propuesta de dicho pseudocódigo sería la siguiente:"
   ]
  },
  {
   "cell_type": "code",
   "execution_count": 1,
   "metadata": {},
   "outputs": [],
   "source": [
    "# Importar Union\n",
    "from typing import Union\n",
    "import math\n",
    "\n",
    "# NOTAS SOBRE LA FUNCION:\n",
    "# - Retorna el valor con cuatro decimales de presición.\n",
    "# Definición de la función: rN[Xcoor, Ycoor], vN[mod, theta]\n",
    "def collisionDescomp(\n",
    "    rA: tuple[float, float],\n",
    "    vA: tuple[float, float],\n",
    "    rB: tuple[float, float],\n",
    "    vB: tuple[float, float]\n",
    ") -> Union[float, None]:\n",
    "    # Validar los datos. Estas validaciones son: \n",
    "    # que todos pertenezcan a los reales positivos\n",
    "    if (rA[0] < 0 or rA[1] < 0 or vA[0] < 0):\n",
    "        print('Returning none because of first validation')\n",
    "        return None\n",
    "    \n",
    "    if (rB[0] < 0 or rB[1] < 0 or vB[0] < 0):\n",
    "        print('Returnirng none because of second validation')\n",
    "        return None\n",
    "    \n",
    "    # Descomponer ambos vectores de velocidad\n",
    "    # Componente X de A\n",
    "    a_xComp = math.cos(vA[1]) * vA[0]\n",
    "    # Componente y de A\n",
    "    a_yComp = math.sin(vA[1]) * vA[0]\n",
    "\n",
    "    # Componete x de B\n",
    "    b_xComp = math.cos(vB[1]) * vB[0]\n",
    "    # Componente x de B\n",
    "    b_yComp = math.sin(vB[1]) * vB[0]\n",
    "\n",
    "    # Determinar las coordenadas de cada cuerpo\n",
    "    a_xCoor, a_yCoor = rA\n",
    "    b_xCoor, b_yCoor = rB\n",
    "\n",
    "    # Determinar si Delta X tiende a 0\n",
    "    deltaXTiende = False\n",
    "    if (abs(a_xCoor - b_xCoor) > abs((a_xCoor + a_xComp) - (b_xCoor + b_xComp))):\n",
    "        deltaXTiende = True\n",
    "    \n",
    "    print(f'Value of deltaXTiende: {deltaXTiende}')\n",
    "    print(f'Value of first X abs: {abs(a_xCoor - b_xCoor)}')\n",
    "    print(f'Value of second X abs: {abs((a_xCoor + a_xComp) - (b_xCoor + b_xComp))}')\n",
    "    print(f'Value of xComp: {a_xComp}, {b_xComp}')\n",
    "\n",
    "    # Determinar si Delta Y tiende a 0\n",
    "    deltaYTiende = False\n",
    "    if (abs(a_yCoor - b_yCoor) > abs((a_yCoor + a_yComp) - (b_yCoor + b_yComp))):\n",
    "        deltaYTiende = True\n",
    "\n",
    "    #print(f'Value of deltaYTiende: {deltaYTiende}')\n",
    "    \n",
    "    # Si los cuerpos no colisionarán, devolver None --------------------------\n",
    "    if ((not deltaXTiende) or (not deltaYTiende)):\n",
    "        print(f'Returning none because of changes in delta. delta X {deltaXTiende}, delta Y {deltaYTiende}')\n",
    "        return None\n",
    "    \n",
    "    # Determinar el tiempo en que las trayectorias intersecan en X\n",
    "    tiempoColisionX = abs(a_xCoor - b_xCoor) / abs(a_xComp - b_xComp)\n",
    "    print(f'tiempoColisionX {tiempoColisionX}')\n",
    "    \n",
    "    # Determinar el tiempo en que las trayectorias intersecan en Y\n",
    "    tiempoColisionY = abs(a_yCoor - b_yCoor) / abs(a_yComp - b_yComp)\n",
    "    print(f'tiempoColisionY {tiempoColisionY}')\n",
    "\n",
    "    # Función secundaria de redondeo\n",
    "    tiempoColisionX = round(tiempoColisionX * 10000) / 10000\n",
    "    tiempoColisionY = round(tiempoColisionY * 10000) / 10000\n",
    "\n",
    "    # Comparar si ambas son iguales.\n",
    "    if (tiempoColisionY == tiempoColisionX):\n",
    "        return tiempoColisionX\n",
    "    else:\n",
    "        print('Returning none because objects don\\'t collide')\n",
    "        return None\n"
   ]
  },
  {
   "cell_type": "markdown",
   "metadata": {},
   "source": [
    "## Método de descomposición ++\n",
    "El anterior método tenia una falla. Este método necesita de un filtro de las posibles carcterísticas de las entradas. Dichos filtros son los siguientes:\n",
    "1. Los cuerpos no inician en las mismas coordenadas.\n",
    "2. Los vectores de los cuerpos no son paralelos\n",
    "3. Los valores que ambos cuerpos pueden tomar se traslapan en algún área\n",
    "4. Dibujando una línea entre ambos cuerpos, los vectores se encuentran del mismo lado de la línea, formando un triángulo\n",
    "\n",
    "### Conocer si los valores se traslapan.\n",
    "Esto se basa en la siguiente idea: inecuaciones. Los valores de coordenadas por eje que pueden tomar los cuerpos se basan en sus coordenadas y la direccion de sus vectores. Si se descompone en dos ejes, entonces pueden ocurrir los siguientes tres casos:\n",
    "- Los vectores tienen la misma dirección, por lo tanto pueden tomar los mismos valores y uno contiene todos los valores del otr\n",
    "- Los vectores tienen distintas direcciones, pero por su posición, hay un área en la que se traslapan\n",
    "- Los vectors tienen distintas direcciones, pero por su posición, no comparten ningún valor en común"
   ]
  },
  {
   "cell_type": "code",
   "execution_count": 86,
   "metadata": {},
   "outputs": [],
   "source": [
    "from typing import Union\n",
    "import math\n",
    "\n",
    "roundConst = 1000\n",
    "\n",
    "def collisionDesc2(\n",
    "    rA: tuple[float, float],\n",
    "    vA: tuple[float, float],\n",
    "    rB: tuple[float, float],\n",
    "    vB: tuple[float, float]\n",
    ") -> Union[float, None]:\n",
    "    # Filtro 1, las coordenadas no son las mismas\n",
    "    if (rA[0] == rB[0] and rA[1] == rB[1]):\n",
    "        print('Returning None because coords are equal')\n",
    "        return None\n",
    "    \n",
    "    # Filtro 2, los vectores no son paralelos\n",
    "    print(f'Angulo de A {vA[1]}, angulo de B {vB[1]}')\n",
    "    print(f'Tangente A: {math.tan(vA[1])}, tangente de B: {math.tan(vB[1])}')\n",
    "    if (round(math.tan(vA[1]) * roundConst) / roundConst == round(math.tan(vB[1]) * roundConst) / roundConst):\n",
    "        print('Returning None because trajectories are parallel')\n",
    "        return None\n",
    "    \n",
    "    # Filtro 3, los valores que pueden tomar ambos cuerpos se traslapan.\n",
    "    # Descomposición de vectores\n",
    "    a_xComp = math.cos(vA[1]) * vA[0]\n",
    "    a_yComp = math.sin(vA[1]) * vA[0]\n",
    "\n",
    "    b_xComp = math.cos(vB[1]) * vB[0]\n",
    "    b_yComp = math.sin(vB[1]) * vB[0]\n",
    "\n",
    "    # Conocer si se traslapan\n",
    "    # Armar las inecuaciones para eje X\n",
    "    inecX = []\n",
    "    inecX.append({\n",
    "        'point': rA[0],\n",
    "        'dir': a_xComp\n",
    "    })\n",
    "\n",
    "    inecX.append({\n",
    "        'point': rB[0],\n",
    "        'dir': b_xComp\n",
    "    })\n",
    "\n",
    "    # Verificar si las inecuaciones se intersecan en X\n",
    "    # Encontrar el punto mayor\n",
    "    maxX = max(inecX[0]['point'], inecX[1]['point'])\n",
    "    maxXInec = list(filter(lambda inec : inec['point'] == maxX, inecX))\n",
    "    minXInec = list(filter(lambda inec : inec['point'] != maxX, inecX))\n",
    "    print(f'inecuaciones de X: {inecX}')\n",
    "\n",
    "    # Verificar si la dirección del mayor es positiva\n",
    "    altXEsPosit = False\n",
    "    if maxXInec[0]['dir'] > 0:\n",
    "        altXEsPosit = True\n",
    "    \n",
    "    # Verificar si la dirección del menor es negativa\n",
    "    bajXEsNeg = False\n",
    "    if minXInec[0]['dir'] < 0:\n",
    "        bajXEsNeg = True\n",
    "    \n",
    "    # Si ambas condiciones son ciertas, None\n",
    "    if (altXEsPosit and bajXEsNeg):\n",
    "        print('Retorna None porque el eje X no coincide')\n",
    "        return None\n",
    "    \n",
    "    # Armar las inecuaciones para el eje Y\n",
    "    inecY = []\n",
    "    inecY.append({\n",
    "        'point': rA[1],\n",
    "        'dir': a_yComp\n",
    "    })\n",
    "\n",
    "    inecY.append({\n",
    "        'point': rB[1],\n",
    "        'dir': b_yComp\n",
    "    })\n",
    "\n",
    "    # Verificar si las inecuaciones se intersecan en Y\n",
    "    # Encontrar el punto mayor\n",
    "    maxY = max(inecY[0]['point'], inecY[0]['point'])\n",
    "    maxYInec = list(filter(lambda inec : inec['point'] == maxY, inecY))\n",
    "    minYInec = list(filter(lambda inec : inec['point'] != maxY, inecY))\n",
    "\n",
    "    # Verificar si la dirección del mayor es positiva\n",
    "    altYEsPosit = False\n",
    "    if maxYInec[0]['dir'] > 0:\n",
    "        altYEsPosit = True\n",
    "    \n",
    "    bajYEsNeg = False\n",
    "    if minYInec[0]['dir'] < 0:\n",
    "        bajYEsNeg = True\n",
    "    \n",
    "    # Si ambas son ciertas, None\n",
    "    if (altYEsPosit and bajYEsNeg):\n",
    "        print('Retorna None porque el eje Y no coincide')\n",
    "        return None\n",
    "    \n",
    "\n",
    "    # Filtro 4, dibujar un segmento entre las coordenadas, las líneas quedan del mismo lado"
   ]
  },
  {
   "cell_type": "code",
   "execution_count": 87,
   "metadata": {},
   "outputs": [
    {
     "name": "stdout",
     "output_type": "stream",
     "text": [
      "Angulo de A 1.5707963267948966, angulo de B 0\n",
      "Tangente A: 1.633123935319537e+16, tangente de B: 0.0\n",
      "inecuaciones de X: [{'point': 5, 'dir': 1.5308084989341916e-16}, {'point': 0, 'dir': 2.5}]\n"
     ]
    }
   ],
   "source": [
    "# Esperado: ningún None\n",
    "collisionDesc2([5, 0], [2.5, 0.5 * math.pi], [0, 5], [2.5, 0])"
   ]
  },
  {
   "cell_type": "code",
   "execution_count": 88,
   "metadata": {},
   "outputs": [
    {
     "name": "stdout",
     "output_type": "stream",
     "text": [
      "Angulo de A 0, angulo de B 0\n",
      "Tangente A: 0.0, tangente de B: 0.0\n",
      "Returning None because trajectories are parallel\n"
     ]
    }
   ],
   "source": [
    "# Esperado: None, son paralelos\n",
    "collisionDesc2([0, 0], [1, 0], [0, 1], [1, 0])"
   ]
  },
  {
   "cell_type": "code",
   "execution_count": 89,
   "metadata": {},
   "outputs": [
    {
     "name": "stdout",
     "output_type": "stream",
     "text": [
      "Angulo de A 0, angulo de B 3.141592653589793\n",
      "Tangente A: 0.0, tangente de B: -1.2246467991473532e-16\n",
      "Returning None because trajectories are parallel\n"
     ]
    }
   ],
   "source": [
    "# Esperado: None, son paralelos pero en direcciones opuestas\n",
    "collisionDesc2([0, 0], [1, 0], [0, 1], [1, math.pi])"
   ]
  },
  {
   "cell_type": "code",
   "execution_count": 90,
   "metadata": {},
   "outputs": [
    {
     "name": "stdout",
     "output_type": "stream",
     "text": [
      "Angulo de A 0.7853981633974483, angulo de B 0.7853981633974483\n",
      "Tangente A: 0.9999999999999999, tangente de B: 0.9999999999999999\n",
      "Returning None because trajectories are parallel\n"
     ]
    }
   ],
   "source": [
    "# Esperado None, son paralelos\n",
    "collisionDesc2([0, 0], [1, 0.25 * math.pi], [0, 1], [1, 0.25 * math.pi])"
   ]
  },
  {
   "cell_type": "code",
   "execution_count": 91,
   "metadata": {},
   "outputs": [
    {
     "name": "stdout",
     "output_type": "stream",
     "text": [
      "Returning None because coords are equal\n"
     ]
    }
   ],
   "source": [
    "# Esperado None por coordenadas iguales\n",
    "collisionDesc2([0, 0], [1, 1], [0, 0], [1, 3])"
   ]
  },
  {
   "cell_type": "code",
   "execution_count": 92,
   "metadata": {},
   "outputs": [
    {
     "name": "stdout",
     "output_type": "stream",
     "text": [
      "Angulo de A 1.7453292519943295, angulo de B 1.3962634015954636\n",
      "Tangente A: -5.671281819617711, tangente de B: 5.671281819617707\n",
      "inecuaciones de X: [{'point': 0, 'dir': -0.1736481776669303}, {'point': 1, 'dir': 0.17364817766693041}]\n",
      "Retorna None porque el eje X no coincide\n"
     ]
    }
   ],
   "source": [
    "# Esperado None porque eje X no coincide\n",
    "collisionDesc2([0, 0], [1, math.radians(100)], [1, 0], [1, math.radians(80)])"
   ]
  },
  {
   "cell_type": "code",
   "execution_count": 93,
   "metadata": {},
   "outputs": [
    {
     "name": "stdout",
     "output_type": "stream",
     "text": [
      "Angulo de A 0, angulo de B 3.490658503988659\n",
      "Tangente A: 0.0, tangente de B: 0.3639702342662023\n",
      "inecuaciones de X: [{'point': 0, 'dir': 1.0}, {'point': 0, 'dir': -0.9396926207859084}]\n"
     ]
    },
    {
     "ename": "IndexError",
     "evalue": "list index out of range",
     "output_type": "error",
     "traceback": [
      "\u001b[0;31m---------------------------------------------------------------------------\u001b[0m",
      "\u001b[0;31mIndexError\u001b[0m                                Traceback (most recent call last)",
      "Cell \u001b[0;32mIn[93], line 2\u001b[0m\n\u001b[1;32m      1\u001b[0m \u001b[38;5;66;03m# Esperado None porque el eje Y no coincide\u001b[39;00m\n\u001b[0;32m----> 2\u001b[0m \u001b[43mcollisionDesc2\u001b[49m\u001b[43m(\u001b[49m\u001b[43m[\u001b[49m\u001b[38;5;241;43m0\u001b[39;49m\u001b[43m,\u001b[49m\u001b[43m \u001b[49m\u001b[38;5;241;43m0\u001b[39;49m\u001b[43m]\u001b[49m\u001b[43m,\u001b[49m\u001b[43m \u001b[49m\u001b[43m[\u001b[49m\u001b[38;5;241;43m1\u001b[39;49m\u001b[43m,\u001b[49m\u001b[43m \u001b[49m\u001b[38;5;241;43m0\u001b[39;49m\u001b[43m]\u001b[49m\u001b[43m,\u001b[49m\u001b[43m \u001b[49m\u001b[43m[\u001b[49m\u001b[38;5;241;43m0\u001b[39;49m\u001b[43m,\u001b[49m\u001b[43m \u001b[49m\u001b[38;5;241;43m1\u001b[39;49m\u001b[43m]\u001b[49m\u001b[43m,\u001b[49m\u001b[43m \u001b[49m\u001b[43m[\u001b[49m\u001b[38;5;241;43m1\u001b[39;49m\u001b[43m,\u001b[49m\u001b[43m \u001b[49m\u001b[43mmath\u001b[49m\u001b[38;5;241;43m.\u001b[39;49m\u001b[43mradians\u001b[49m\u001b[43m(\u001b[49m\u001b[38;5;241;43m200\u001b[39;49m\u001b[43m)\u001b[49m\u001b[43m]\u001b[49m\u001b[43m)\u001b[49m\n",
      "Cell \u001b[0;32mIn[86], line 59\u001b[0m, in \u001b[0;36mcollisionDesc2\u001b[0;34m(rA, vA, rB, vB)\u001b[0m\n\u001b[1;32m     57\u001b[0m \u001b[38;5;66;03m# Verificar si la dirección del menor es negativa\u001b[39;00m\n\u001b[1;32m     58\u001b[0m bajXEsNeg \u001b[38;5;241m=\u001b[39m \u001b[38;5;28;01mFalse\u001b[39;00m\n\u001b[0;32m---> 59\u001b[0m \u001b[38;5;28;01mif\u001b[39;00m \u001b[43mminXInec\u001b[49m\u001b[43m[\u001b[49m\u001b[38;5;241;43m0\u001b[39;49m\u001b[43m]\u001b[49m[\u001b[38;5;124m'\u001b[39m\u001b[38;5;124mdir\u001b[39m\u001b[38;5;124m'\u001b[39m] \u001b[38;5;241m<\u001b[39m \u001b[38;5;241m0\u001b[39m:\n\u001b[1;32m     60\u001b[0m     bajXEsNeg \u001b[38;5;241m=\u001b[39m \u001b[38;5;28;01mTrue\u001b[39;00m\n\u001b[1;32m     62\u001b[0m \u001b[38;5;66;03m# Si ambas condiciones son ciertas, None\u001b[39;00m\n",
      "\u001b[0;31mIndexError\u001b[0m: list index out of range"
     ]
    }
   ],
   "source": [
    "# Esperado None porque el eje Y no coincide\n",
    "collisionDesc2([0, 0], [1, 0], [0, 1], [1, math.radians(200)])"
   ]
  },
  {
   "cell_type": "code",
   "execution_count": null,
   "metadata": {},
   "outputs": [],
   "source": []
  }
 ],
 "metadata": {
  "kernelspec": {
   "display_name": "primero",
   "language": "python",
   "name": "python3"
  },
  "language_info": {
   "codemirror_mode": {
    "name": "ipython",
    "version": 3
   },
   "file_extension": ".py",
   "mimetype": "text/x-python",
   "name": "python",
   "nbconvert_exporter": "python",
   "pygments_lexer": "ipython3",
   "version": "3.12.3"
  }
 },
 "nbformat": 4,
 "nbformat_minor": 2
}
