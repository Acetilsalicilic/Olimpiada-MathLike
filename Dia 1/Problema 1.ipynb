{
 "cells": [
  {
   "cell_type": "markdown",
   "metadata": {},
   "source": [
    "# Problema 1\n",
    "*Enunciado:*\n",
    "\n",
    "Tenemos una lista de números enteros estrictamente positivos de cual-\n",
    "quier tamaño, llamémosla L, y un valor objetivo t. Queremos encontrar to-\n",
    "das las sublistas de L cuyo producto sea exactamente t. Por ejemplo, si L =\n",
    "[1, 2, 3, 4, 5, 10] y t = 10, entonces las sublistas que cumplen con la condición\n",
    "son [2, 5], [1, 2, 5], [1, 10] y [10], así que retornas [[2, 5], [1, 2, 5], [1, 10], [10]]. Si\n",
    "no hay ninguna sublista que cumpla con la condición, entonces simplemente\n",
    "debes devolver una lista vacía. No te pedimos un orden específico de las su-\n",
    "blistas ni tampoco de sus elementos, pero sí no deben repetirse sublistas con\n",
    "los mismos elementos en ningún orden.\n",
    "\n",
    "*Implementación:*\n",
    "\n",
    "``` Python\n",
    "def find_sublists(L: list[int], t: int) -> list[list[int]]:\n",
    "pass\n",
    "# Ejemplos\n",
    "print(find_sublists([1, 2, 3, 4, 5, 10], 10)) # [[2, 5], [1, 2, 5], [1, 10], [10]]\n",
    "print(find_sublists([1, 2, 3, 4, 5, 10], 100)) # [[1, 2, 5, 10], [2, 5, 10]]\n",
    "print(find_sublists([], 10)) # []\n",
    "print(find_sublists([1, 2, 3, 4, 5, 10], 1)) # [[1]]\n",
    "print(find_sublists([1, 2, 3, 4, 5, 10], 11)) # []\n",
    "print(find_sublists([-1, 2, 3, 4, 0], 0)) # Error: los números deben\n",
    "# ser estrictamente positivos\n",
    "# y sin cifras decimales\n",
    "```"
   ]
  },
  {
   "cell_type": "markdown",
   "metadata": {},
   "source": []
  }
 ],
 "metadata": {
  "kernelspec": {
   "display_name": "primero",
   "language": "python",
   "name": "python3"
  },
  "language_info": {
   "name": "python",
   "version": "3.12.3"
  }
 },
 "nbformat": 4,
 "nbformat_minor": 2
}
