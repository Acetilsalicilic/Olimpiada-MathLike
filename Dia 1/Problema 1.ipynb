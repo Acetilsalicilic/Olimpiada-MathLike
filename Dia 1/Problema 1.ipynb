{
 "cells": [
  {
   "cell_type": "markdown",
   "metadata": {},
   "source": [
    "# Problema 1\n",
    "*Enunciado:*\n",
    "\n",
    "Tenemos una lista de números enteros estrictamente positivos de cual-\n",
    "quier tamaño, llamémosla L, y un valor objetivo t. Queremos encontrar to-\n",
    "das las sublistas de L cuyo producto sea exactamente t. Por ejemplo, si L =\n",
    "[1, 2, 3, 4, 5, 10] y t = 10, entonces las sublistas que cumplen con la condición\n",
    "son [2, 5], [1, 2, 5], [1, 10] y [10], así que retornas [[2, 5], [1, 2, 5], [1, 10], [10]]. Si\n",
    "no hay ninguna sublista que cumpla con la condición, entonces simplemente\n",
    "debes devolver una lista vacía. No te pedimos un orden específico de las su-\n",
    "blistas ni tampoco de sus elementos, pero sí no deben repetirse sublistas con\n",
    "los mismos elementos en ningún orden.\n",
    "\n",
    "*Implementación:*\n",
    "\n",
    "``` Python\n",
    "def find_sublists(L: list[int], t: int) -> list[list[int]]:\n",
    "pass\n",
    "# Ejemplos\n",
    "print(find_sublists([1, 2, 3, 4, 5, 10], 10)) # [[2, 5], [1, 2, 5], [1, 10], [10]]\n",
    "print(find_sublists([1, 2, 3, 4, 5, 10], 100)) # [[1, 2, 5, 10], [2, 5, 10]]\n",
    "print(find_sublists([], 10)) # []\n",
    "print(find_sublists([1, 2, 3, 4, 5, 10], 1)) # [[1]]\n",
    "print(find_sublists([1, 2, 3, 4, 5, 10], 11)) # []\n",
    "print(find_sublists([-1, 2, 3, 4, 0], 0)) # Error: los números deben\n",
    "# ser estrictamente positivos\n",
    "# y sin cifras decimales\n",
    "```"
   ]
  },
  {
   "cell_type": "code",
   "execution_count": 1,
   "metadata": {},
   "outputs": [],
   "source": [
    "from math import ceil\n",
    "\n",
    "def find_sublists(L: list[int], t: int) -> list[list[int]]:\n",
    "    if len(L) == 0: # Si la lista está vacía, retornar lista vacía\n",
    "        return []\n",
    "    \n",
    "    if len(L) == 1 and t in L: # Si tiene un solo elemento y ese elemento es el mismo t, retornar L\n",
    "        return L\n",
    "    \n",
    "    # Verificar que los números en L sean positivos\n",
    "    for n in L:\n",
    "        if n < 0:\n",
    "            raise Exception(\"Error: los números deben ser estrictamente positivos y sin cifras decimales\")\n",
    "        \n",
    "    \n",
    "    # Si t es 1 y 1 en L:\n",
    "    \"\"\"\n",
    "    if t == 1 and 1 in L:\n",
    "        retorno = [[]]\n",
    "        for i in range(0, L.count(1)):\n",
    "            retorno[0].append(1)\n",
    "        \n",
    "        retorno.append([1])\n",
    "        return retorno\n",
    "    \"\"\"\n",
    "    # Crear combinaciones de unos\n",
    "    unoCount = L.count(1)\n",
    "    combinacionesUno = []\n",
    "    for n in range(1, unoCount + 2):\n",
    "        nuevaCombinacionUno = []\n",
    "        for i in range(0, n - 1):\n",
    "            nuevaCombinacionUno.append(1)\n",
    "        \n",
    "        if len(nuevaCombinacionUno) >= 1:\n",
    "            combinacionesUno.append(nuevaCombinacionUno)\n",
    "    \n",
    "    if t == 1 and 1 in L:\n",
    "        return combinacionesUno\n",
    "\n",
    "    # Primer paso: ordenar la lista\n",
    "    # L.sort()\n",
    "\n",
    "    # Segundo paso: establecer eliminación, t/2\n",
    "    limit = ceil(t / 2)\n",
    "    \n",
    "    # Tercer paso: criba\n",
    "    numerosMenoresQueT = list(range(1, limit + 1))\n",
    "    primosMenoresQueT = numerosMenoresQueT.copy()\n",
    "    d = 0\n",
    "    while primosMenoresQueT[d] ** 2 < limit:\n",
    "    #while d < limit:\n",
    "        for n in primosMenoresQueT:\n",
    "            if n != d:\n",
    "                if n % primosMenoresQueT[d] == 0:\n",
    "                    primosMenoresQueT.remove(n)\n",
    "        \n",
    "        d += 1\n",
    "\n",
    "    # Descomposición en factores primos\n",
    "    listaPrimos = []\n",
    "    tTemp = t\n",
    "    i = 0\n",
    "    while True:\n",
    "        if tTemp % primosMenoresQueT[i] == 0:\n",
    "            listaPrimos.append(primosMenoresQueT[i])\n",
    "            tTemp /= primosMenoresQueT[i]\n",
    "        else:\n",
    "            i += 1\n",
    "\n",
    "        if i == len(primosMenoresQueT):\n",
    "            break\n",
    "\n",
    "    # Si no tiene factores primos, es decir, es primo, devolver si está contenido en L\n",
    "    if len(listaPrimos) == 0 and t in L:\n",
    "        return [[t], [1, t]]\n",
    "\n",
    "    # Crear sublistas a probar\n",
    "    sublistasAProbar = []\n",
    "    listaListasAProbar = [[listaPrimos]]\n",
    "    nivelesACalcular = len(listaPrimos) - 1\n",
    "    nivelesCalculados = 0\n",
    "\n",
    "    while nivelesCalculados < nivelesACalcular: # Recorrer todos los niveles\n",
    "        nuevoNivel = []\n",
    "        #lista = listaListasAProbar[-1][-1] \n",
    "        for lista in listaListasAProbar[-1]: # Usar los elementos del último nivel y  Usar los elementos de la última lsta en el nivel\n",
    "            for n in range(0, len(lista) - 1): # Añadir a una nueva lista\n",
    "                itemACombinar1 = lista[n]\n",
    "                itemACombinar2 = lista[n + 1]\n",
    "                nuevaLista = [itemACombinar1 * itemACombinar2]\n",
    "                nuevaLista += [x for i,x in enumerate(lista) if i != n and i != n+1]\n",
    "                # nuevaLista += list(filter(lambda a : lista.index(a) != n or lista.index(a) != n + 1, lista)) It's broken\n",
    "\n",
    "                nuevoNivel.append(nuevaLista)\n",
    "        listaListasAProbar.append(nuevoNivel)\n",
    "        nivelesCalculados += 1\n",
    "\n",
    "    # print(f'listaDeSublistas: {listaListasAProbar}')\n",
    "    #print(f'listaDeSublistas: {listaListasAProbar}')\n",
    "\n",
    "    # Eliminar las lostas repetidas del último nivel\n",
    "    listaListasAProbar[-1] = [listaListasAProbar[-1][0]]\n",
    "\n",
    "    # concentrar las sublistas en sublistasAProbar\n",
    "    for nivel in listaListasAProbar:\n",
    "        for sublista in nivel:\n",
    "            sublistasAProbar.append(sublista)\n",
    "\n",
    "    #print(f'Listas a probar {sublistasAProbar}')\n",
    "\n",
    "    \n",
    "    # Verificar si es una sublista\n",
    "    sublistas = []\n",
    "    removed = False\n",
    "    \n",
    "    for sublista in sublistasAProbar:\n",
    "        sublistaTemp = sublista.copy()\n",
    "        for n in L:\n",
    "            for m in sublistaTemp:\n",
    "                if n == m:\n",
    "                    sublistaTemp.remove(m)\n",
    "                    removed = True\n",
    "                \n",
    "                if removed:\n",
    "                    break\n",
    "            \n",
    "            if removed:\n",
    "                removed = False\n",
    "                continue\n",
    "        \n",
    "        if len(sublistaTemp) == 0:\n",
    "            sublistas.append(sublista)\n",
    "    \n",
    "\n",
    "    for lista in sublistas:\n",
    "        lista.sort()\n",
    "    \n",
    "    # Si L contiene 1, añadir 1 a todas las sublistas conocidas\n",
    "    \"\"\"\n",
    "    sublistasMasUno = sublistas.copy()\n",
    "    if 1 in L:\n",
    "        for lista in sublistas:\n",
    "            sublistasMasUno.append(lista.copy())\n",
    "            sublistasMasUno[-1].append(1)\n",
    "    \"\"\"\n",
    "\n",
    "    # Añadir los unos\n",
    "    # Aplicar las combinaciones de 1 a todas las sublistas creadas\n",
    "    sublistasMasUno = []\n",
    "    for i, lista in enumerate(sublistas):\n",
    "        sublistasMasUno.append(lista)\n",
    "        \n",
    "        for unoComb in combinacionesUno:\n",
    "            sublistasMasUno.append(lista + unoComb)\n",
    "    \n",
    "    return sublistasMasUno"
   ]
  },
  {
   "cell_type": "markdown",
   "metadata": {},
   "source": [
    "## Casos de prueba:"
   ]
  },
  {
   "cell_type": "markdown",
   "metadata": {},
   "source": []
  },
  {
   "cell_type": "code",
   "execution_count": 2,
   "metadata": {},
   "outputs": [
    {
     "data": {
      "text/plain": [
       "[[2, 5], [2, 5, 1], [10], [10, 1]]"
      ]
     },
     "execution_count": 2,
     "metadata": {},
     "output_type": "execute_result"
    }
   ],
   "source": [
    "# Caso 1\n",
    "find_sublists([1, 2, 3, 4, 5, 6, 7, 8, 9, 10], 10)"
   ]
  },
  {
   "cell_type": "code",
   "execution_count": 3,
   "metadata": {},
   "outputs": [
    {
     "data": {
      "text/plain": [
       "[[4, 5], [4, 5, 1], [2, 10], [2, 10, 1]]"
      ]
     },
     "execution_count": 3,
     "metadata": {},
     "output_type": "execute_result"
    }
   ],
   "source": [
    "# Caso 2\n",
    "find_sublists([1, 2, 3, 4, 5, 6, 7, 8, 9, 10], 20)"
   ]
  },
  {
   "cell_type": "code",
   "execution_count": 4,
   "metadata": {},
   "outputs": [
    {
     "data": {
      "text/plain": [
       "[[5, 11], [5, 11, 1], [5, 11, 1, 1], [55], [55, 1], [55, 1, 1]]"
      ]
     },
     "execution_count": 4,
     "metadata": {},
     "output_type": "execute_result"
    }
   ],
   "source": [
    "# Caso 3\n",
    "find_sublists([1, 1, 2, 3, 5, 8, 11, 11, 13, 17, 19, 55], 55)"
   ]
  },
  {
   "cell_type": "code",
   "execution_count": 5,
   "metadata": {},
   "outputs": [
    {
     "data": {
      "text/plain": [
       "[[2, 5, 11],\n",
       " [2, 5, 11, 1],\n",
       " [2, 5, 11, 1, 1],\n",
       " [2, 55],\n",
       " [2, 55, 1],\n",
       " [2, 55, 1, 1]]"
      ]
     },
     "execution_count": 5,
     "metadata": {},
     "output_type": "execute_result"
    }
   ],
   "source": [
    "# Caso 4\n",
    "find_sublists([1, 1, 2, 3, 5, 8, 11, 11, 13, 17, 19, 55], 110)"
   ]
  },
  {
   "cell_type": "code",
   "execution_count": 6,
   "metadata": {},
   "outputs": [
    {
     "data": {
      "text/plain": [
       "[]"
      ]
     },
     "execution_count": 6,
     "metadata": {},
     "output_type": "execute_result"
    }
   ],
   "source": [
    "# Caso 5\n",
    "find_sublists([], 1)"
   ]
  },
  {
   "cell_type": "code",
   "execution_count": 7,
   "metadata": {},
   "outputs": [
    {
     "name": "stdout",
     "output_type": "stream",
     "text": [
      "Exception\n"
     ]
    }
   ],
   "source": [
    "# Caso 6\n",
    "try:\n",
    "    find_sublists([-1.2, 1, 2, 3, 4, 5, 6, 7, 8, 9, 10], 10)\n",
    "except Exception:\n",
    "    print(\"Exception\")\n"
   ]
  },
  {
   "cell_type": "code",
   "execution_count": 8,
   "metadata": {},
   "outputs": [
    {
     "data": {
      "text/plain": [
       "[[1], [1, 1], [1, 1, 1]]"
      ]
     },
     "execution_count": 8,
     "metadata": {},
     "output_type": "execute_result"
    }
   ],
   "source": [
    "# Caso 7\n",
    "find_sublists([1, 1, 1], 1)"
   ]
  }
 ],
 "metadata": {
  "kernelspec": {
   "display_name": "primero",
   "language": "python",
   "name": "python3"
  },
  "language_info": {
   "codemirror_mode": {
    "name": "ipython",
    "version": 3
   },
   "file_extension": ".py",
   "mimetype": "text/x-python",
   "name": "python",
   "nbconvert_exporter": "python",
   "pygments_lexer": "ipython3",
   "version": "3.12.3"
  }
 },
 "nbformat": 4,
 "nbformat_minor": 2
}
