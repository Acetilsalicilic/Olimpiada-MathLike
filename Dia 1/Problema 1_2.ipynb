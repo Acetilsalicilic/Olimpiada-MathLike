{
 "cells": [
  {
   "cell_type": "code",
   "execution_count": 2,
   "metadata": {},
   "outputs": [],
   "source": [
    "def find_sublists(L: list[int], t: int) -> list[list[int]]:\n",
    "    # Filtros ----------------------\n",
    "    # Si L está vacía, retornar []\n",
    "\n",
    "    # Si tiene un solo elemento y ese elemento es el mismo t, retornar L\n",
    "    \n",
    "    # Paso 1: Ordenar la lista\n",
    "\n",
    "    # Paso 2: Obtener los primos menores que t / 2\n",
    "    pass\n",
    "\n",
    "\n",
    "def criba(limit: int) -> list[int]:\n",
    "    numerosMenoresQueT = list(range(1, limit + 1))\n",
    "    primosMenoresQueT = numerosMenoresQueT.copy()\n",
    "    d = 0\n",
    "    while primosMenoresQueT[d] ** 2 < limit:\n",
    "        for n in primosMenoresQueT:\n",
    "            if n != d:\n",
    "                if n % primosMenoresQueT[d] == 0:\n",
    "                    primosMenoresQueT.remove(n)\n",
    "        \n",
    "        d += 1\n",
    "    \n",
    "    print(f'Lista numeros: {primosMenoresQueT}')\n",
    "    return primosMenoresQueT\n",
    "\n",
    "\n",
    "def probarDivisibleEnL(L: list[int], target: int):\n",
    "    listaDivisores = []\n",
    "    for n in L:\n",
    "        if target % n == 0:\n",
    "            listaDivisores.append(n)\n",
    "    \n",
    "    return listaDivisores\n"
   ]
  },
  {
   "cell_type": "code",
   "execution_count": 5,
   "metadata": {},
   "outputs": [
    {
     "data": {
      "text/plain": [
       "[1, 2, 4, 5]"
      ]
     },
     "execution_count": 5,
     "metadata": {},
     "output_type": "execute_result"
    }
   ],
   "source": [
    "probarDivisibleEnL([1, 2, 3, 4, 5, 6, 7, 8], 100)"
   ]
  },
  {
   "cell_type": "code",
   "execution_count": null,
   "metadata": {},
   "outputs": [],
   "source": []
  }
 ],
 "metadata": {
  "kernelspec": {
   "display_name": "primero",
   "language": "python",
   "name": "python3"
  },
  "language_info": {
   "codemirror_mode": {
    "name": "ipython",
    "version": 3
   },
   "file_extension": ".py",
   "mimetype": "text/x-python",
   "name": "python",
   "nbconvert_exporter": "python",
   "pygments_lexer": "ipython3",
   "version": "3.12.3"
  }
 },
 "nbformat": 4,
 "nbformat_minor": 2
}
